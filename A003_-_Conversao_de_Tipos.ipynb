{
  "nbformat": 4,
  "nbformat_minor": 0,
  "metadata": {
    "colab": {
      "name": "A003_-_Conversao_de_Tipos.ipynb",
      "provenance": []
    },
    "kernelspec": {
      "name": "python3",
      "display_name": "Python 3"
    },
    "language_info": {
      "name": "python"
    }
  },
  "cells": [
    {
      "cell_type": "code",
      "execution_count": null,
      "metadata": {
        "colab": {
          "base_uri": "https://localhost:8080/"
        },
        "id": "qjdZgn0voosW",
        "outputId": "29a6cdb1-cb6d-4cff-b625-59235d62c641"
      },
      "outputs": [
        {
          "output_type": "stream",
          "name": "stdout",
          "text": [
            "Qual sua idade? 17\n",
            "Não pode dirigir!\n"
          ]
        }
      ],
      "source": [
        "# Conversão de Tipos\n",
        "def verifica_se_pode_dirigir_sem_parametros():\n",
        "  idade = input('Qual sua idade? ')\n",
        "  idade = int(idade)\n",
        "  if idade >= 18:\n",
        "    print('Pode dirigir!')\n",
        "  else:\n",
        "    print('Não pode dirigir!')\n",
        "\n",
        "verifica_se_pode_dirigir_sem_parametros()"
      ]
    },
    {
      "cell_type": "code",
      "source": [
        ""
      ],
      "metadata": {
        "id": "_PAvDRtJphVr"
      },
      "execution_count": null,
      "outputs": []
    }
  ]
}