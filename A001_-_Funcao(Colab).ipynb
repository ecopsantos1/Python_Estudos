{
  "nbformat": 4,
  "nbformat_minor": 0,
  "metadata": {
    "colab": {
      "name": "A001_-_Funcao(Colab).ipynb",
      "provenance": [],
      "collapsed_sections": []
    },
    "kernelspec": {
      "name": "python3",
      "display_name": "Python 3"
    },
    "language_info": {
      "name": "python"
    }
  },
  "cells": [
    {
      "cell_type": "code",
      "execution_count": 3,
      "metadata": {
        "colab": {
          "base_uri": "https://localhost:8080/"
        },
        "id": "rFKXiAylB1Jt",
        "outputId": "4e8d6564-acdc-44ef-89cb-34816144fb9b"
      },
      "outputs": [
        {
          "output_type": "stream",
          "name": "stdout",
          "text": [
            "Qual seu primeiro nome? Isaac\n",
            "Qual seu sobrenome? Asimov\n",
            "Isaac Asimov\n"
          ]
        }
      ],
      "source": [
        "# Função Simples\n",
        "def nome_completo():\n",
        "  primeiro_nome = input('Qual seu primeiro nome? ')\n",
        "  sobrenome = input('Qual seu sobrenome? ')\n",
        "  nome_inteiro = primeiro_nome + ' ' + sobrenome\n",
        "  print(nome_inteiro)\n",
        "\n",
        "nome_completo()"
      ]
    },
    {
      "cell_type": "code",
      "source": [
        "def saudacao():\n",
        "  nome = input('Qual seu nome? ')\n",
        "  print(f'Olá, {nome}!')\n",
        "\n",
        "saudacao()"
      ],
      "metadata": {
        "colab": {
          "base_uri": "https://localhost:8080/"
        },
        "id": "Spmo1wkdD_mz",
        "outputId": "ab854613-0eb4-4e8e-9f2f-78282d5f25a8"
      },
      "execution_count": 7,
      "outputs": [
        {
          "output_type": "stream",
          "name": "stdout",
          "text": [
            "Qual seu nome? Henry\n",
            "Olá, Henry!\n"
          ]
        }
      ]
    },
    {
      "cell_type": "code",
      "source": [
        "# Função com Parâmetro\n",
        "nome = 'Sofia'\n",
        "def saudacao_com_parametros(nome_da_pessoa):\n",
        "  print(f'Olá {nome_da_pessoa}.')\n",
        "\n",
        "saudacao_com_parametros(nome)"
      ],
      "metadata": {
        "colab": {
          "base_uri": "https://localhost:8080/"
        },
        "id": "nQ5y-UAAFPDR",
        "outputId": "d91777d2-55b0-41a1-de4e-2b66c176f2de"
      },
      "execution_count": 9,
      "outputs": [
        {
          "output_type": "stream",
          "name": "stdout",
          "text": [
            "Olá Sofia.\n"
          ]
        }
      ]
    },
    {
      "cell_type": "code",
      "source": [
        "# Função com Parâmetro (2)\n",
        "nome = 'Bach'\n",
        "idade = 100"
      ],
      "metadata": {
        "id": "qTpeUf8mIu22"
      },
      "execution_count": 10,
      "outputs": []
    },
    {
      "cell_type": "code",
      "source": [
        "def saudacao_com_parametros(nome, idade):\n",
        "  print(f'Olá {nome}, senhor de {idade} anos!')\n",
        "\n",
        "saudacao_com_parametros(nome, idade)"
      ],
      "metadata": {
        "colab": {
          "base_uri": "https://localhost:8080/"
        },
        "id": "kuACDnxhJFDq",
        "outputId": "c818b6bf-9500-4b14-a3d9-dd496f7dd0aa"
      },
      "execution_count": 13,
      "outputs": [
        {
          "output_type": "stream",
          "name": "stdout",
          "text": [
            "Olá Bach, senhor de 100 anos!\n"
          ]
        }
      ]
    },
    {
      "cell_type": "code",
      "source": [
        ""
      ],
      "metadata": {
        "id": "xWtBp-2bJQNQ"
      },
      "execution_count": null,
      "outputs": []
    }
  ]
}