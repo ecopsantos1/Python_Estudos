{
  "nbformat": 4,
  "nbformat_minor": 0,
  "metadata": {
    "colab": {
      "name": "A001_-_Funcao(Colab).ipynb",
      "provenance": [],
      "collapsed_sections": []
    },
    "kernelspec": {
      "name": "python3",
      "display_name": "Python 3"
    },
    "language_info": {
      "name": "python"
    }
  },
  "cells": [
    {
      "cell_type": "code",
      "execution_count": 3,
      "metadata": {
        "colab": {
          "base_uri": "https://localhost:8080/"
        },
        "id": "rFKXiAylB1Jt",
        "outputId": "4e8d6564-acdc-44ef-89cb-34816144fb9b"
      },
      "outputs": [
        {
          "output_type": "stream",
          "name": "stdout",
          "text": [
            "Qual seu primeiro nome? Isaac\n",
            "Qual seu sobrenome? Asimov\n",
            "Isaac Asimov\n"
          ]
        }
      ],
      "source": [
        "# Função Simples\n",
        "def nome_completo():\n",
        "  primeiro_nome = input('Qual seu primeiro nome? ')\n",
        "  sobrenome = input('Qual seu sobrenome? ')\n",
        "  nome_inteiro = primeiro_nome + ' ' + sobrenome # perceba o ' ', usado para dar espaço entre nome e sobrenome\n",
        "  print(nome_inteiro)\n",
        "\n",
        "nome_completo()"
      ]
    },
    {
      "cell_type": "code",
      "source": [
        "def saudacao():\n",
        "  nome = input('Qual seu nome? ')\n",
        "  print(f'Olá, {nome}!')\n",
        "\n",
        "saudacao()"
      ],
      "metadata": {
        "colab": {
          "base_uri": "https://localhost:8080/"
        },
        "id": "Spmo1wkdD_mz",
        "outputId": "ab854613-0eb4-4e8e-9f2f-78282d5f25a8"
      },
      "execution_count": 7,
      "outputs": [
        {
          "output_type": "stream",
          "name": "stdout",
          "text": [
            "Qual seu nome? Henry\n",
            "Olá, Henry!\n"
          ]
        }
      ]
    },
    {
      "cell_type": "code",
      "source": [
        ""
      ],
      "metadata": {
        "id": "nQ5y-UAAFPDR"
      },
      "execution_count": null,
      "outputs": []
    }
  ]
}