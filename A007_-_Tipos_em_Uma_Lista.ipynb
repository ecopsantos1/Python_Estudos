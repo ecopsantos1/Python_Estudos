{
  "nbformat": 4,
  "nbformat_minor": 0,
  "metadata": {
    "colab": {
      "name": "A007_-_Tipos_em_Uma_Lista.ipynb",
      "provenance": []
    },
    "kernelspec": {
      "name": "python3",
      "display_name": "Python 3"
    },
    "language_info": {
      "name": "python"
    }
  },
  "cells": [
    {
      "cell_type": "code",
      "source": [
        ""
      ],
      "metadata": {
        "id": "LRe2hjZFYCkT"
      },
      "execution_count": null,
      "outputs": []
    },
    {
      "cell_type": "code",
      "execution_count": 1,
      "metadata": {
        "colab": {
          "base_uri": "https://localhost:8080/"
        },
        "id": "FelE-FsoXkAf",
        "outputId": "9f17b298-3519-4ec2-9ad5-6caafeed8d75"
      },
      "outputs": [
        {
          "output_type": "stream",
          "name": "stdout",
          "text": [
            "O elemento Sagan é do tipo:  <class 'str'>\n",
            "O elemento 28 é do tipo:  <class 'int'>\n",
            "O elemento True é do tipo:  <class 'bool'>\n",
            "O elemento 18 é do tipo:  <class 'str'>\n"
          ]
        }
      ],
      "source": [
        "# Tipos em Uma Lista\n",
        "lista = ['Sagan', 28, True, '18'] \n",
        "\n",
        "for elemento in lista: # \"para\" elemento \"dentro de\" lista\n",
        "  print(f'O elemento {elemento} é do tipo: ', type(elemento))"
      ]
    },
    {
      "cell_type": "code",
      "source": [
        ""
      ],
      "metadata": {
        "id": "Wzo0jJndX8YW"
      },
      "execution_count": null,
      "outputs": []
    }
  ]
}