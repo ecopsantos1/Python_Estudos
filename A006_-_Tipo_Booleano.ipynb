{
  "nbformat": 4,
  "nbformat_minor": 0,
  "metadata": {
    "colab": {
      "name": "A006_-_Tipo_Booleano.ipynb",
      "provenance": []
    },
    "kernelspec": {
      "name": "python3",
      "display_name": "Python 3"
    },
    "language_info": {
      "name": "python"
    }
  },
  "cells": [
    {
      "cell_type": "code",
      "execution_count": 1,
      "metadata": {
        "id": "10SeOVZ0SWom"
      },
      "outputs": [],
      "source": [
        "# Verificar se idade tem permissão para dirigir e caso positivo, vamos armazenar o valor booleano\n",
        "permissoes = []\n",
        "idades = [20, 14, 40]"
      ]
    },
    {
      "cell_type": "code",
      "source": [
        "def verifica_se_pode_dirigir(idades, permissoes):\n",
        "  for idade in idades:\n",
        "    if idade >= 18:\n",
        "      permissoes.append(True)\n",
        "    else:\n",
        "      permissoes.append(False)\n",
        "\n",
        "verifica_se_pode_dirigir(idades, permissoes)\n",
        "\n",
        "permissoes"
      ],
      "metadata": {
        "colab": {
          "base_uri": "https://localhost:8080/"
        },
        "id": "xUYA__fmVVNr",
        "outputId": "df9843d5-2c8f-4a49-b514-4a67df667896"
      },
      "execution_count": 2,
      "outputs": [
        {
          "output_type": "execute_result",
          "data": {
            "text/plain": [
              "[True, False, True]"
            ]
          },
          "metadata": {},
          "execution_count": 2
        }
      ]
    },
    {
      "cell_type": "code",
      "source": [
        "# Verificando cada permissão dentro de \"permissoes\"\n",
        "for permissao in permissoes:\n",
        "  if permissao == True:\n",
        "    print('Tem permissão para dirigir')\n",
        "  else:\n",
        "    print('Não tem permissão para dirigir')"
      ],
      "metadata": {
        "colab": {
          "base_uri": "https://localhost:8080/"
        },
        "id": "1uQE3gtMViTi",
        "outputId": "efbf4388-b381-442b-af75-1e9440f5bb19"
      },
      "execution_count": 3,
      "outputs": [
        {
          "output_type": "stream",
          "name": "stdout",
          "text": [
            "Tem permissão para dirigir\n",
            "Não tem permissão para dirigir\n",
            "Tem permissão para dirigir\n"
          ]
        }
      ]
    },
    {
      "cell_type": "code",
      "source": [
        ""
      ],
      "metadata": {
        "id": "Jq1v2ziFVsLh"
      },
      "execution_count": null,
      "outputs": []
    }
  ]
}