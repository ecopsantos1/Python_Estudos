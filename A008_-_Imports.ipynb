{
  "nbformat": 4,
  "nbformat_minor": 0,
  "metadata": {
    "colab": {
      "name": "A008_-_Imports.ipynb",
      "provenance": []
    },
    "kernelspec": {
      "name": "python3",
      "display_name": "Python 3"
    },
    "language_info": {
      "name": "python"
    }
  },
  "cells": [
    {
      "cell_type": "code",
      "execution_count": 12,
      "metadata": {
        "colab": {
          "base_uri": "https://localhost:8080/"
        },
        "id": "jkch61H0YOZg",
        "outputId": "88ca919b-8976-49f5-e024-485f97856b5d"
      },
      "outputs": [
        {
          "output_type": "execute_result",
          "data": {
            "text/plain": [
              "8"
            ]
          },
          "metadata": {},
          "execution_count": 12
        }
      ],
      "source": [
        "# Imports\n",
        "from random import randrange\n",
        "randrange(0, 11)"
      ]
    },
    {
      "cell_type": "code",
      "source": [
        "notas_matematica =[]\n",
        "\n",
        "for notas in range(8):\n",
        "  notas_matematica.append(randrange(0, 11))\n",
        "\n",
        "notas_matematica"
      ],
      "metadata": {
        "colab": {
          "base_uri": "https://localhost:8080/"
        },
        "id": "DGIW1pklYf8H",
        "outputId": "ad9ac599-8bec-4da5-b89d-d62139233151"
      },
      "execution_count": 13,
      "outputs": [
        {
          "output_type": "execute_result",
          "data": {
            "text/plain": [
              "[0, 3, 0, 7, 8, 3, 8, 8]"
            ]
          },
          "metadata": {},
          "execution_count": 13
        }
      ]
    },
    {
      "cell_type": "code",
      "source": [
        "len(notas_matematica)# contar \"notas_matematica\""
      ],
      "metadata": {
        "colab": {
          "base_uri": "https://localhost:8080/"
        },
        "id": "OUgUphQSYzkU",
        "outputId": "d4d0283d-944a-42b9-fd29-4d684ff84728"
      },
      "execution_count": 14,
      "outputs": [
        {
          "output_type": "execute_result",
          "data": {
            "text/plain": [
              "8"
            ]
          },
          "metadata": {},
          "execution_count": 14
        }
      ]
    },
    {
      "cell_type": "code",
      "source": [
        "# Imports com Seed\n",
        "from random import randrange, seed"
      ],
      "metadata": {
        "id": "fXqDjjcjY8zS"
      },
      "execution_count": 16,
      "outputs": []
    },
    {
      "cell_type": "code",
      "source": [
        "seed(10)\n",
        "randrange(0, 11)"
      ],
      "metadata": {
        "colab": {
          "base_uri": "https://localhost:8080/"
        },
        "id": "p-c-Pcq1aAEI",
        "outputId": "1e30a74b-c3b5-4407-be93-65da3cf8624f"
      },
      "execution_count": 17,
      "outputs": [
        {
          "output_type": "execute_result",
          "data": {
            "text/plain": [
              "9"
            ]
          },
          "metadata": {},
          "execution_count": 17
        }
      ]
    },
    {
      "cell_type": "code",
      "source": [
        "notas_matematica =[]\n",
        "\n",
        "for notas in range(8):\n",
        "  notas_matematica.append(randrange(0, 11))\n",
        "\n",
        "notas_matematica"
      ],
      "metadata": {
        "colab": {
          "base_uri": "https://localhost:8080/"
        },
        "id": "IKs3fQXVaFqQ",
        "outputId": "0d78e691-c5f8-41e2-be18-8fb81d2f719b"
      },
      "execution_count": 18,
      "outputs": [
        {
          "output_type": "execute_result",
          "data": {
            "text/plain": [
              "[0, 6, 7, 9, 0, 3, 7, 7]"
            ]
          },
          "metadata": {},
          "execution_count": 18
        }
      ]
    },
    {
      "cell_type": "code",
      "source": [
        ""
      ],
      "metadata": {
        "id": "L_NFMptJaNcl"
      },
      "execution_count": null,
      "outputs": []
    }
  ]
}